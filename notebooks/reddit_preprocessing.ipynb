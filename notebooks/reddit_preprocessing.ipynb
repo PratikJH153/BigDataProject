{
 "cells": [
  {
   "cell_type": "code",
   "execution_count": 4,
   "id": "9d6f45ee-f039-4613-9ea5-315dac053731",
   "metadata": {},
   "outputs": [
    {
     "name": "stdout",
     "output_type": "stream",
     "text": [
      "Collecting pyspark\n",
      "  Downloading pyspark-3.5.3.tar.gz (317.3 MB)\n",
      "\u001b[2K     \u001b[38;2;114;156;31m━━━━━━━━━━━━━━━━━━━━━━━━━━━━━━━━━━━━━━\u001b[0m \u001b[32m317.3/317.3 MB\u001b[0m \u001b[31m12.8 MB/s\u001b[0m eta \u001b[36m0:00:00\u001b[0mm eta \u001b[36m0:00:01\u001b[0m[36m0:00:01\u001b[0m\n",
      "\u001b[?25h  Preparing metadata (setup.py) ... \u001b[?25ldone\n",
      "\u001b[?25hCollecting py4j==0.10.9.7 (from pyspark)\n",
      "  Downloading py4j-0.10.9.7-py2.py3-none-any.whl.metadata (1.5 kB)\n",
      "Downloading py4j-0.10.9.7-py2.py3-none-any.whl (200 kB)\n",
      "\u001b[2K   \u001b[38;2;114;156;31m━━━━━━━━━━━━━━━━━━━━━━━━━━━━━━━━━━━━━━━━\u001b[0m \u001b[32m200.5/200.5 kB\u001b[0m \u001b[31m16.6 MB/s\u001b[0m eta \u001b[36m0:00:00\u001b[0m\n",
      "\u001b[?25hBuilding wheels for collected packages: pyspark\n",
      "  Building wheel for pyspark (setup.py) ... \u001b[?25ldone\n",
      "\u001b[?25h  Created wheel for pyspark: filename=pyspark-3.5.3-py2.py3-none-any.whl size=317840629 sha256=19b7f43270fe5c9b2a39d7fc78c336298371eda796d09ff64039be7163523973\n",
      "  Stored in directory: /Users/pratikjh/Library/Caches/pip/wheels/07/a0/a3/d24c94bf043ab5c7e38c30491199a2a11fef8d2584e6df7fb7\n",
      "Successfully built pyspark\n",
      "Installing collected packages: py4j, pyspark\n",
      "Successfully installed py4j-0.10.9.7 pyspark-3.5.3\n",
      "Note: you may need to restart the kernel to use updated packages.\n"
     ]
    }
   ],
   "source": [
    "%pip install pyspark"
   ]
  },
  {
   "cell_type": "code",
   "execution_count": 98,
   "id": "75f70e20-26c0-4ba3-bf73-afe4c8449c03",
   "metadata": {},
   "outputs": [],
   "source": [
    "from pyspark.sql import SparkSession\n",
    "from pyspark.sql.functions import col, length, when\n",
    "from pyspark.sql.types import IntegerType, BooleanType"
   ]
  },
  {
   "cell_type": "code",
   "execution_count": 100,
   "id": "9e43a36a-7de1-4fe0-8b34-401a585c3f7e",
   "metadata": {},
   "outputs": [],
   "source": [
    "spark = SparkSession.builder.appName(\"Chicago Nightlife Data Cleaning\").getOrCreate()"
   ]
  },
  {
   "cell_type": "code",
   "execution_count": 102,
   "id": "7d2ad33b-6d53-4a97-8191-7c3fc8b331db",
   "metadata": {},
   "outputs": [],
   "source": [
    "# Load CSV into a Spark DataFrame\n",
    "df = spark.read.csv(\"../data/raw/reddit_nightlife_data_20241202_002739.csv\", header=True, inferSchema=True)"
   ]
  },
  {
   "cell_type": "code",
   "execution_count": 104,
   "id": "859fa321-01e6-4a42-b8f3-106352d4adba",
   "metadata": {},
   "outputs": [
    {
     "data": {
      "text/plain": [
       "Row(post_id='1glwebz', subreddit='Chicago', title='What’s your favorite Dive Bar in the city? ', text='Do you have a top 5? Top 3?', score=None, upvote_ratio=None, num_comments=None, created_utc=None, query_term=None, comment_id=None, parent_id=None, depth=None, full_text=None, mentioned_venues=None, text_length=None, has_venue_mention=None)"
      ]
     },
     "execution_count": 104,
     "metadata": {},
     "output_type": "execute_result"
    }
   ],
   "source": [
    "df.head()"
   ]
  },
  {
   "cell_type": "code",
   "execution_count": 106,
   "id": "6cc5a4ae-3791-4f56-80aa-db314e65f063",
   "metadata": {},
   "outputs": [
    {
     "name": "stdout",
     "output_type": "stream",
     "text": [
      "10826\n"
     ]
    }
   ],
   "source": [
    "print(df.count())"
   ]
  },
  {
   "cell_type": "code",
   "execution_count": 108,
   "id": "93ea3480-9427-4f27-a186-46384a703b60",
   "metadata": {},
   "outputs": [],
   "source": [
    "# Remove rows with missing or null values\n",
    "df = df.dropna()"
   ]
  },
  {
   "cell_type": "code",
   "execution_count": 110,
   "id": "d12b2059-d9c0-4bae-b385-39fa07778fdf",
   "metadata": {},
   "outputs": [
    {
     "name": "stdout",
     "output_type": "stream",
     "text": [
      "+--------------------+--------------------+------------+--------------+--------------------+--------------------+------------+--------------------+--------------------+--------------------+--------------------+--------------------+--------------------+--------------------+--------------------+--------------------+\n",
      "|             post_id|           subreddit|       title|          text|               score|        upvote_ratio|num_comments|         created_utc|          query_term|          comment_id|           parent_id|               depth|           full_text|    mentioned_venues|         text_length|   has_venue_mention|\n",
      "+--------------------+--------------------+------------+--------------+--------------------+--------------------+------------+--------------------+--------------------+--------------------+--------------------+--------------------+--------------------+--------------------+--------------------+--------------------+\n",
      "|**Food - 7.5.** A...| this was hit-or-...|   à la mode|         quail|              cheese| float) but also ...|       fluff| tea). Opinion wa...|              though| so your percepti...| I still really a...| interesting text...| and unusual comb...| so if you have a...| you might walk a...| but I would've l...|\n",
      "|**Food - 7.5.** A...| this was hit-or-...|   à la mode|         quail|              cheese| float) but also ...|       fluff| tea). Opinion wa...|              though| so your percepti...| I still really a...| interesting text...| and unusual comb...| so if you have a...| you might walk a...| but I would've l...|\n",
      "|I read a lot of t...| and they all see...| interesting| great concept| sourcing/ingredi...|             service|       etc.)| and also *omit* ...| and as someone w...| I went in with l...| but instead got ...|               salty|             intense|               etc.)| but even the typ...| and hope they st...|\n",
      "|I read a lot of t...| and they all see...| interesting| great concept| sourcing/ingredi...|             service|       etc.)| and also *omit* ...| and as someone w...| I went in with l...| but instead got ...|               salty|             intense|               etc.)| but even the typ...| and hope they st...|\n",
      "|**Food - 7.5.** A...| this was hit-or-...|   à la mode|         quail|              cheese| float) but also ...|       fluff| tea). Opinion wa...|              though| so your percepti...| I still really a...| interesting text...| and unusual comb...| so if you have a...| you might walk a...| but I would've l...|\n",
      "|**Food - 7.5.** A...| this was hit-or-...|   à la mode|         quail|              cheese| float) but also ...|       fluff| tea). Opinion wa...|              though| so your percepti...| I still really a...| interesting text...| and unusual comb...| so if you have a...| you might walk a...| but I would've l...|\n",
      "|**Food - 7.5.** A...| this was hit-or-...|   à la mode|         quail|              cheese| float) but also ...|       fluff| tea). Opinion wa...|              though| so your percepti...| I still really a...| interesting text...| and unusual comb...| so if you have a...| you might walk a...| but I would've l...|\n",
      "|**Food - 7.5.** A...| this was hit-or-...|   à la mode|         quail|              cheese| float) but also ...|       fluff| tea). Opinion wa...|              though| so your percepti...| I still really a...| interesting text...| and unusual comb...| so if you have a...| you might walk a...| but I would've l...|\n",
      "|I read a lot of t...| and they all see...| interesting| great concept| sourcing/ingredi...|             service|       etc.)| and also *omit* ...| and as someone w...| I went in with l...| but instead got ...|               salty|             intense|               etc.)| but even the typ...| and hope they st...|\n",
      "|I read a lot of t...| and they all see...| interesting| great concept| sourcing/ingredi...|             service|       etc.)| and also *omit* ...| and as someone w...| I went in with l...| but instead got ...|               salty|             intense|               etc.)| but even the typ...| and hope they st...|\n",
      "+--------------------+--------------------+------------+--------------+--------------------+--------------------+------------+--------------------+--------------------+--------------------+--------------------+--------------------+--------------------+--------------------+--------------------+--------------------+\n",
      "\n"
     ]
    }
   ],
   "source": [
    "df.show()"
   ]
  },
  {
   "cell_type": "code",
   "execution_count": 112,
   "id": "bc1f3c89-2f53-40b5-90df-2c740d5d9039",
   "metadata": {},
   "outputs": [
    {
     "name": "stdout",
     "output_type": "stream",
     "text": [
      "10\n"
     ]
    }
   ],
   "source": [
    "print(df.count())"
   ]
  },
  {
   "cell_type": "code",
   "execution_count": 54,
   "id": "fbca608b-0791-4a8f-b849-4cd377cbb05c",
   "metadata": {},
   "outputs": [],
   "source": [
    "# Drop duplicate rows based on post_id\n",
    "df = df.dropDuplicates([\"post_id\"])"
   ]
  },
  {
   "cell_type": "code",
   "execution_count": 56,
   "id": "d59c4c92-0630-4944-af46-7675b2843b89",
   "metadata": {},
   "outputs": [],
   "source": [
    "# Convert created_utc to a timestamp\n",
    "df = df.withColumn(\"created_utc\", col(\"created_utc\").cast(IntegerType()))\n",
    "df = df.withColumn(\"created_utc\", (col(\"created_utc\") / 1000).cast(\"timestamp\"))"
   ]
  },
  {
   "cell_type": "code",
   "execution_count": 58,
   "id": "addcbfda-4454-4ebb-ae53-6617ae8b44b6",
   "metadata": {},
   "outputs": [
    {
     "name": "stdout",
     "output_type": "stream",
     "text": [
      "+--------------------+--------------------+------------+--------------+--------------------+--------------------+------------+-----------+--------------------+--------------------+--------------------+--------------------+--------------------+--------------------+--------------------+--------------------+\n",
      "|             post_id|           subreddit|       title|          text|               score|        upvote_ratio|num_comments|created_utc|          query_term|          comment_id|           parent_id|               depth|           full_text|    mentioned_venues|         text_length|   has_venue_mention|\n",
      "+--------------------+--------------------+------------+--------------+--------------------+--------------------+------------+-----------+--------------------+--------------------+--------------------+--------------------+--------------------+--------------------+--------------------+--------------------+\n",
      "|**Food - 7.5.** A...| this was hit-or-...|   à la mode|         quail|              cheese| float) but also ...|       fluff|       NULL|              though| so your percepti...| I still really a...| interesting text...| and unusual comb...| so if you have a...| you might walk a...| but I would've l...|\n",
      "|I read a lot of t...| and they all see...| interesting| great concept| sourcing/ingredi...|             service|       etc.)|       NULL| and as someone w...| I went in with l...| but instead got ...|               salty|             intense|               etc.)| but even the typ...| and hope they st...|\n",
      "+--------------------+--------------------+------------+--------------+--------------------+--------------------+------------+-----------+--------------------+--------------------+--------------------+--------------------+--------------------+--------------------+--------------------+--------------------+\n",
      "\n"
     ]
    }
   ],
   "source": [
    "# Check cleaned data\n",
    "df.show()"
   ]
  },
  {
   "cell_type": "code",
   "execution_count": 82,
   "id": "bdccb08c-3af5-4060-98fd-e7b2452e612e",
   "metadata": {},
   "outputs": [
    {
     "name": "stdout",
     "output_type": "stream",
     "text": [
      "2\n"
     ]
    },
    {
     "name": "stderr",
     "output_type": "stream",
     "text": [
      "                                                                                \r"
     ]
    }
   ],
   "source": [
    "print(df.count())"
   ]
  },
  {
   "cell_type": "code",
   "execution_count": null,
   "id": "0df7e966-504f-4985-871c-7e1d8e1818da",
   "metadata": {},
   "outputs": [],
   "source": []
  }
 ],
 "metadata": {
  "kernelspec": {
   "display_name": "Python 3 (ipykernel)",
   "language": "python",
   "name": "python3"
  },
  "language_info": {
   "codemirror_mode": {
    "name": "ipython",
    "version": 3
   },
   "file_extension": ".py",
   "mimetype": "text/x-python",
   "name": "python",
   "nbconvert_exporter": "python",
   "pygments_lexer": "ipython3",
   "version": "3.12.4"
  }
 },
 "nbformat": 4,
 "nbformat_minor": 5
}
